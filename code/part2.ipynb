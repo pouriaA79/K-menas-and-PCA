{
 "cells": [
  {
   "cell_type": "code",
   "execution_count": 30,
   "metadata": {},
   "outputs": [
    {
     "name": "stdout",
     "output_type": "stream",
     "text": [
      "Shape of X: (150, 4)\n",
      "Shape of transformed X: (150, 2)\n",
      "Accuracy is : 0.9666666666666667\n"
     ]
    }
   ],
   "source": [
    "import numpy as np\n",
    "import pandas as pd\n",
    "import matplotlib.pyplot as plt\n",
    "from sklearn.model_selection import train_test_split\n",
    "from sklearn.metrics import accuracy_score\n",
    "from sklearn.preprocessing import StandardScaler\n",
    "from sklearn import svm\n",
    "class PCA:\n",
    "    def __init__(self, n_components):\n",
    "        self.n_components = n_components\n",
    "        self.components = None\n",
    "        self.mean = None\n",
    "    def fit(self, X):\n",
    "        # Mean centering\n",
    "        X -= np.mean(X, axis=0)\n",
    "        # covariance, function needs samples as columns\n",
    "        cov = np.cov(X.T)\n",
    "        eigenvalues, eigenvectors = np.linalg.eig(cov)\n",
    "        eigenvectors = eigenvectors.T\n",
    "        eigenvalues = eigenvalues[np.argsort(eigenvalues)[::-1]]\n",
    "        eigenvectors = eigenvectors[np.argsort(eigenvalues)[::-1]]\n",
    "        # store first n eigenvectors\n",
    "        self.components = eigenvectors[0 : self.n_components]\n",
    "\n",
    "    def transform(self, X):\n",
    "        X -= np.mean(X, axis=0)\n",
    "        return np.dot(X, self.components.T)\n",
    "# Testing\n",
    "if __name__ == \"__main__\":\n",
    "    df = pd.read_excel(\"dataset2.xlsx\")\n",
    "    X = df.drop('class', axis=1)\n",
    "    y = df['class']\n",
    "    scaler = StandardScaler()\n",
    "    X = scaler.fit_transform(X)\n",
    "    y = y.to_numpy()\n",
    "    pca = PCA(2)\n",
    "    pca.fit(X)\n",
    "    X_projected = pca.transform(X)\n",
    "    print(\"Shape of X:\", X.shape)\n",
    "    print(\"Shape of transformed X:\", X_projected.shape)\n",
    "    x1 = X_projected[:, 0]\n",
    "    x2 = X_projected[:, 1]\n",
    "#     plt.scatter(\n",
    "#         x1, x2, c=y, edgecolor=\"none\", alpha=0.8, cmap=plt.cm.get_cmap(\"viridis\")\n",
    "#     )\n",
    "#     plt.xlabel(\"Principal Component 1\")\n",
    "#     plt.ylabel(\"Principal Component 2\")\n",
    "\n",
    "#     plt.show()\n",
    "    X_train, X_test, y_train, y_test = train_test_split(X_projected, y, test_size=0.2)\n",
    "    clf = svm.SVC()\n",
    "    clf.fit(X_train, y_train)\n",
    "    y_pred = clf.predict(X_test)\n",
    "    print(\"Accuracy is : {}\".format(accuracy_score(y_test, y_pred)))\n"
   ]
  },
  {
   "cell_type": "code",
   "execution_count": null,
   "metadata": {},
   "outputs": [],
   "source": []
  },
  {
   "cell_type": "code",
   "execution_count": null,
   "metadata": {},
   "outputs": [],
   "source": []
  }
 ],
 "metadata": {
  "kernelspec": {
   "display_name": "Python 3",
   "language": "python",
   "name": "python3"
  },
  "language_info": {
   "codemirror_mode": {
    "name": "ipython",
    "version": 3
   },
   "file_extension": ".py",
   "mimetype": "text/x-python",
   "name": "python",
   "nbconvert_exporter": "python",
   "pygments_lexer": "ipython3",
   "version": "3.6.10"
  }
 },
 "nbformat": 4,
 "nbformat_minor": 4
}
